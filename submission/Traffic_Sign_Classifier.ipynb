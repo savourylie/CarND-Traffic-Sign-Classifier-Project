{
 "cells": [
  {
   "cell_type": "markdown",
   "metadata": {},
   "source": [
    "# Self-Driving Car Engineer Nanodegree\n",
    "\n",
    "## Deep Learning\n",
    "\n",
    "## Project: Build a Traffic Sign Recognition Classifier\n",
    "\n",
    "In this notebook, a template is provided for you to implement your functionality in stages which is required to successfully complete this project. If additional code is required that cannot be included in the notebook, be sure that the Python code is successfully imported and included in your submission, if necessary. Sections that begin with **'Implementation'** in the header indicate where you should begin your implementation for your project. Note that some sections of implementation are optional, and will be marked with **'Optional'** in the header.\n",
    "\n",
    "In addition to implementing code, there will be questions that you must answer which relate to the project and your implementation. Each section where you will answer a question is preceded by a **'Question'** header. Carefully read each question and provide thorough answers in the following text boxes that begin with **'Answer:'**. Your project submission will be evaluated based on your answers to each of the questions and the implementation you provide.\n",
    "\n",
    ">**Note:** Code and Markdown cells can be executed using the **Shift + Enter** keyboard shortcut. In addition, Markdown cells can be edited by typically double-clicking the cell to enter edit mode."
   ]
  },
  {
   "cell_type": "markdown",
   "metadata": {},
   "source": [
    "---\n",
    "## Step 0: Load The Data"
   ]
  },
  {
   "cell_type": "code",
   "execution_count": 221,
   "metadata": {
    "collapsed": true
   },
   "outputs": [],
   "source": [
    "# Load pickled data\n",
    "import pickle\n",
    "\n",
    "training_file = 'train.p'\n",
    "testing_file = 'test.p'\n",
    "\n",
    "with open(training_file, mode='rb') as f:\n",
    "    train = pickle.load(f)\n",
    "with open(testing_file, mode='rb') as f:\n",
    "    test = pickle.load(f)\n",
    "    \n",
    "X_train, y_train = train['features'], train['labels']\n",
    "X_test, y_test = test['features'], test['labels']"
   ]
  },
  {
   "cell_type": "markdown",
   "metadata": {},
   "source": [
    "---\n",
    "\n",
    "## Step 1: Dataset Summary & Exploration\n",
    "\n",
    "The pickled data is a dictionary with 4 key/value pairs:\n",
    "\n",
    "- `'features'` is a 4D array containing raw pixel data of the traffic sign images, (num examples, width, height, channels).\n",
    "- `'labels'` is a 2D array containing the label/class id of the traffic sign. The file `signnames.csv` contains id -> name mappings for each id.\n",
    "- `'sizes'` is a list containing tuples, (width, height) representing the the original width and height the image.\n",
    "- `'coords'` is a list containing tuples, (x1, y1, x2, y2) representing coordinates of a bounding box around the sign in the image. **THESE COORDINATES ASSUME THE ORIGINAL IMAGE. THE PICKLED DATA CONTAINS RESIZED VERSIONS (32 by 32) OF THESE IMAGES**\n",
    "\n",
    "Complete the basic data summary below."
   ]
  },
  {
   "cell_type": "code",
   "execution_count": 222,
   "metadata": {
    "collapsed": false
   },
   "outputs": [
    {
     "name": "stdout",
     "output_type": "stream",
     "text": [
      "Number of training examples = 39209\n",
      "Number of testing examples = 12630\n",
      "Image data shape = (32, 32, 3)\n",
      "Number of classes = 43\n"
     ]
    }
   ],
   "source": [
    "import numpy as np\n",
    "import cv2\n",
    "\n",
    "# Number of training examples\n",
    "n_train = y_train.shape[0]\n",
    "\n",
    "# Number of testing examples.\n",
    "n_test = y_test.shape[0]\n",
    "\n",
    "# What's the shape of an traffic sign image?\n",
    "image_shape = X_train[0].shape\n",
    "\n",
    "# How many unique classes/labels there are in the dataset.\n",
    "n_classes = len(np.unique(y_train))\n",
    "\n",
    "print(\"Number of training examples =\", n_train)\n",
    "print(\"Number of testing examples =\", n_test)\n",
    "print(\"Image data shape =\", image_shape)\n",
    "print(\"Number of classes =\", n_classes)"
   ]
  },
  {
   "cell_type": "markdown",
   "metadata": {},
   "source": [
    "Visualize the German Traffic Signs Dataset using the pickled file(s). This is open ended, suggestions include: plotting traffic sign images, plotting the count of each sign, etc.\n",
    "\n",
    "The [Matplotlib](http://matplotlib.org/) [examples](http://matplotlib.org/examples/index.html) and [gallery](http://matplotlib.org/gallery.html) pages are a great resource for doing visualizations in Python.\n",
    "\n",
    "**NOTE:** It's recommended you start with something simple first. If you wish to do more, come back to it after you've completed the rest of the sections."
   ]
  },
  {
   "cell_type": "code",
   "execution_count": 239,
   "metadata": {
    "collapsed": false
   },
   "outputs": [
    {
     "name": "stdout",
     "output_type": "stream",
     "text": [
      "43\n",
      "\n"
     ]
    },
    {
     "data": {
      "image/png": "[encoded data removed]",
      "text/plain": [
       "<matplotlib.figure.Figure at 0x7fe230ff0710>"
      ]
     },
     "metadata": {},
     "output_type": "display_data"
    }
   ],
   "source": [
    "import matplotlib.pyplot as plt\n",
    "%matplotlib inline\n",
    "from collections import Counter\n",
    "\n",
    "label_count = Counter(y_train)\n",
    "print(len(label_count))\n",
    "print()\n",
    "\n",
    "plt.figure(figsize=(16,9))\n",
    "plt.bar(label_count.keys(), label_count.values(), width=1, color='g')\n",
    "plt.xticks(range(len(label_count)))\n",
    "plt.show()"
   ]
  },
  {
   "cell_type": "markdown",
   "metadata": {},
   "source": [
    "We can see that the training dataset is not very balanced, with lots of speed limit signs and keep right. We may also have a problem predicting \"Speed limit (20km/h)\" as it is very similar to other speed limit signs but with significantly fewer training examples."
   ]
  },
  {
   "cell_type": "markdown",
   "metadata": {},
   "source": [
    "----\n",
    "\n",
    "## Step 2: Design and Test a Model Architecture\n",
    "\n",
    "Design and implement a deep learning model that learns to recognize traffic signs. Train and test your model on the [German Traffic Sign Dataset](http://benchmark.ini.rub.de/?section=gtsrb&subsection=dataset).\n",
    "\n",
    "There are various aspects to consider when thinking about this problem:\n",
    "\n",
    "- Neural network architecture\n",
    "- Play around preprocessing techniques (normalization, rgb to grayscale, etc)\n",
    "- Number of examples per label (some have more than others).\n",
    "- Generate fake data.\n",
    "\n",
    "Here is an example of a [published baseline model on this problem](http://yann.lecun.com/exdb/publis/pdf/sermanet-ijcnn-11.pdf). It's not required to be familiar with the approach used in the paper but, it's good practice to try to read papers like these.\n",
    "\n",
    "**NOTE:** The LeNet-5 implementation shown in the [classroom](https://classroom.udacity.com/nanodegrees/nd013/parts/fbf77062-5703-404e-b60c-95b78b2f3f9e/modules/6df7ae49-c61c-4bb2-a23e-6527e69209ec/lessons/601ae704-1035-4287-8b11-e2c2716217ad/concepts/d4aca031-508f-4e0b-b493-e7b706120f81) at the end of the CNN lesson is a solid starting point. You'll have to change the number of classes and possibly the preprocessing, but aside from that it's plug and play!"
   ]
  },
  {
   "cell_type": "markdown",
   "metadata": {},
   "source": [
    "### Implementation\n",
    "\n",
    "Use the code cell (or multiple code cells, if necessary) to implement the first step of your project. Once you have completed your implementation and are satisfied with the results, be sure to thoroughly answer the questions that follow."
   ]
  },
  {
   "cell_type": "markdown",
   "metadata": {},
   "source": [
    "### Question 1 \n",
    "\n",
    "_Describe how you preprocessed the data. Why did you choose that technique?_"
   ]
  },
  {
   "cell_type": "markdown",
   "metadata": {},
   "source": [
    "**Answer:**\n",
    "1. **Grayscaling**—Instead of just flattening the three color channels evenly, I used PCA and tried to preserve as much variance as possible for each frame, so that we could have more color information on our grayscale images, in the mean time reducing the dimension makes training our network easier.\n",
    "\n",
    "2. **Normalization**—At times images may have poor contrast or in a range that are really different from other images, yet information as such are irrelevant in regard to our problem. By normalizing/standardizing the brightness it is easier for our optimization algorithm to find the optimal point of our cost function."
   ]
  },
  {
   "cell_type": "markdown",
   "metadata": {},
   "source": [
    "### Question 2\n",
    "\n",
    "_Describe how you set up the training, validation and testing data for your model. **Optional**: If you generated additional data, how did you generate the data? Why did you generate the data? What are the differences in the new dataset (with generated data) from the original dataset?_"
   ]
  },
  {
   "cell_type": "markdown",
   "metadata": {},
   "source": [
    "**Answer:**\n",
    "#### Data separation\n",
    "60.5% of data is kept for training while 15.1% hold out for validation and 24.4% for testing.\n",
    "\n",
    "#### Data augmentation\n",
    "The following methods are applied to augment the data:\n",
    " * **Random channel shift**—this shifts the values of each channel a little bit to change the color of the traffic signs. Due to differnt lighting conditions, images captured by the sensor may not always have the correct white balance. I believe this augmentation can simulate such situations.\n",
    " * **Random brightness**—this shifts the brightness of the images by a small amount to simulate the \"incorrect\" exposure values of the images.\n",
    " * **Random translation**—we may not always have sign in the center of the image. We can simulate this by randomly shifting the images by 5 pixels on both axes, and pad the holes with zeros.\n",
    " \n",
    "The new training dataset is twice in length of the orginal training set and contains the orignal dataset and the augmented dataset created by randomly applying the above functions."
   ]
  },
  {
   "cell_type": "code",
   "execution_count": 241,
   "metadata": {
    "collapsed": false
   },
   "outputs": [
    {
     "name": "stdout",
     "output_type": "stream",
     "text": [
      "\n",
      "Image Shape: (32, 32, 3)\n",
      "\n",
      "Training Set:   31367 samples\n",
      "Validation Set: 7842 samples\n",
      "Test Set:       12630 samples\n"
     ]
    }
   ],
   "source": [
    "from sklearn.model_selection import train_test_split\n",
    "\n",
    "# Create validation sets\n",
    "X_train, X_validation, y_train, y_validation = train_test_split(X_train, y_train, test_size=0.20, random_state=42)\n",
    "\n",
    "\n",
    "assert(len(X_train) == len(y_train))\n",
    "assert(len(X_validation) == len(y_validation))\n",
    "assert(len(X_test) == len(y_test))\n",
    "\n",
    "print()\n",
    "print(\"Image Shape: {}\".format(X_train[0].shape))\n",
    "print()\n",
    "print(\"Training Set:   {} samples\".format(len(X_train)))\n",
    "print(\"Validation Set: {} samples\".format(len(X_validation)))\n",
    "print(\"Test Set:       {} samples\".format(len(X_test)))"
   ]
  },
  {
   "cell_type": "code",
   "execution_count": 242,
   "metadata": {
    "collapsed": false
   },
   "outputs": [
    {
     "data": {
      "image/png": "[encoded data removed]",
      "text/plain": [
       "<matplotlib.figure.Figure at 0x7fe230babba8>"
      ]
     },
     "metadata": {},
     "output_type": "display_data"
    },
    {
     "name": "stdout",
     "output_type": "stream",
     "text": [
      "28\n"
     ]
    }
   ],
   "source": [
    "import random\n",
    "\n",
    "index = random.randint(0, len(X_train))\n",
    "image = X_train[index]\n",
    "\n",
    "plt.figure(figsize=(1,1))\n",
    "plt.imshow(image)\n",
    "plt.show()\n",
    "print(y_train[index])"
   ]
  },
  {
   "cell_type": "code",
   "execution_count": 243,
   "metadata": {
    "collapsed": false
   },
   "outputs": [
    {
     "name": "stdout",
     "output_type": "stream",
     "text": [
      "(32, 32, 3)\n",
      "(62734, 32, 32, 3)\n",
      "(62734,)\n"
     ]
    }
   ],
   "source": [
    "# Data Augmentation\n",
    "# Apply random brightness shift to image\n",
    "def random_channel_shift(x, intensity, channel_index=0):\n",
    "    x = np.rollaxis(x, channel_index, 0)\n",
    "    min_x, max_x = np.min(x), np.max(x)\n",
    "    channel_images = [np.clip(x_channel + np.random.uniform(-intensity, intensity), min_x, max_x)\n",
    "                      for x_channel in x]\n",
    "    x = np.stack(channel_images, axis=0)\n",
    "    x = np.rollaxis(x, 0, channel_index+1)\n",
    "    return x\n",
    "\n",
    "# Apply random brightness to image\n",
    "def augment_brightness_camera_images(image):\n",
    "    random_bright = .25 + np.random.uniform()\n",
    "    image[:,:,2] = image[:,:,2]*random_bright\n",
    "    return image\n",
    "\n",
    "def trans_image(image, steer, trans_range):\n",
    "    # Translation\n",
    "    tr_x = trans_range*np.random.uniform()-trans_range/2\n",
    "    steer_ang = steer + tr_x/trans_range*2*.2\n",
    "    tr_y = 8*np.random.uniform()-8/2\n",
    "    #tr_y = 0\n",
    "    Trans_M = np.float32([[1,0,tr_x],[0,1,tr_y]])\n",
    "    image_tr = cv2.warpAffine(image, Trans_M, (32, 32))\n",
    "    \n",
    "    return image_tr, steer_ang\n",
    "\n",
    "aug_list = []\n",
    "for i in range(1):\n",
    "    for image in X_train:\n",
    "        img = random_channel_shift(image, 10, 2)\n",
    "        img = augment_brightness_camera_images(img)\n",
    "        img = trans_image(img, 1, 10)[0]\n",
    "        aug_list.append(img)\n",
    "    \n",
    "\n",
    "aug_data = np.array(aug_list)\n",
    "\n",
    "print(aug_data[0].shape)\n",
    "\n",
    "X_train = np.concatenate((X_train, aug_data), axis=0)\n",
    "y_train = np.tile(y_train, 2)\n",
    "print(X_train.shape)\n",
    "print(y_train.shape)"
   ]
  },
  {
   "cell_type": "code",
   "execution_count": 244,
   "metadata": {
    "collapsed": true
   },
   "outputs": [],
   "source": [
    "from sklearn.decomposition import PCA\n",
    "\n",
    "def process_image(image):\n",
    "    imshape = image.shape\n",
    "    # Inspect Image\n",
    "#     print('This image is:', type(image), 'with dimesions:', imshape)\n",
    "\n",
    "    temp = image.reshape(imshape[0] * imshape[1], 3)\n",
    "    pca = PCA(n_components=1, whiten=True)\n",
    "    pca.fit(temp)\n",
    "    temp2 = image.reshape(imshape[0] * imshape[1], 3)\n",
    "    temp2 = pca.transform(temp2)\n",
    "    temp2 = temp2.reshape(imshape[0], imshape[1])    \n",
    "        \n",
    "    def normalize(image):\n",
    "        pixel_max = np.max(image)\n",
    "        pixel_min = np.min(image)\n",
    "        \n",
    "        return ((255 / (pixel_max - pixel_min)) * image - 255 * pixel_min / (pixel_max - pixel_min)).astype('uint8')\n",
    "\n",
    "    temp2 = normalize(temp2)\n",
    "    gray = temp2\n",
    "  \n",
    "    return gray"
   ]
  },
  {
   "cell_type": "code",
   "execution_count": 245,
   "metadata": {
    "collapsed": false
   },
   "outputs": [],
   "source": [
    "# Normalization + PCA Grayscaling + Gaussian Blur\n",
    "X_train_gray = []\n",
    "X_validation_gray = []\n",
    "X_test_gray = []\n",
    "\n",
    "for image in X_train:\n",
    "    X_train_gray.append(process_image(image))\n",
    "\n",
    "for image in X_validation:\n",
    "    X_validation_gray.append(process_image(image))\n",
    "    \n",
    "for image in X_test:\n",
    "    X_test_gray.append(process_image(image))\n",
    "\n",
    "X_train_gray = np.asarray(X_train_gray)\n",
    "X_validation_gray = np.asarray(X_validation_gray)\n",
    "X_test_gray = np.asarray(X_test_gray)"
   ]
  },
  {
   "cell_type": "code",
   "execution_count": 246,
   "metadata": {
    "collapsed": false
   },
   "outputs": [
    {
     "data": {
      "image/png": "[encoded data removed]",
      "text/plain": [
       "<matplotlib.figure.Figure at 0x7fe23076d6d8>"
      ]
     },
     "metadata": {},
     "output_type": "display_data"
    },
    {
     "name": "stdout",
     "output_type": "stream",
     "text": [
      "27105\n"
     ]
    }
   ],
   "source": [
    "image = X_train_gray[index]\n",
    "plt.figure(figsize=(1,1))\n",
    "plt.imshow(image, cmap=\"gray\")\n",
    "plt.show()\n",
    "print(index)"
   ]
  },
  {
   "cell_type": "code",
   "execution_count": 247,
   "metadata": {
    "collapsed": true
   },
   "outputs": [],
   "source": [
    "# Reshape data for Tensorflow\n",
    "X_train_reshape = []\n",
    "X_validation_reshape = []\n",
    "X_test_reshape = []\n",
    "\n",
    "for image in X_train_gray:\n",
    "    X_train_reshape.append(np.expand_dims(image, axis=2))\n",
    "for image in X_validation_gray:\n",
    "    X_validation_reshape.append(np.expand_dims(image, axis=2))\n",
    "for image in X_test_gray:\n",
    "    X_test_reshape.append(np.expand_dims(image, axis=2))\n",
    "\n",
    "X_train = np.asarray(X_train_reshape)\n",
    "X_validation = np.asarray(X_validation_reshape)\n",
    "X_test = np.asarray(X_test_reshape)\n"
   ]
  },
  {
   "cell_type": "code",
   "execution_count": 248,
   "metadata": {
    "collapsed": false
   },
   "outputs": [
    {
     "name": "stdout",
     "output_type": "stream",
     "text": [
      "(62734, 32, 32, 1)\n",
      "(7842, 32, 32, 1)\n",
      "(12630, 32, 32, 1)\n"
     ]
    }
   ],
   "source": [
    "print(X_train.shape)\n",
    "print(X_validation.shape)\n",
    "print(X_test.shape)"
   ]
  },
  {
   "cell_type": "code",
   "execution_count": 249,
   "metadata": {
    "collapsed": false
   },
   "outputs": [],
   "source": [
    "from tensorflow.contrib.layers import flatten\n",
    "import tensorflow as tf\n",
    "from sklearn.utils import shuffle\n",
    "\n",
    "X_train, y_train = shuffle(X_train, y_train, random_state=42)\n",
    "n_classes = 43 # Total classes (0-9 digits)\n",
    "\n",
    "# Hyperparameters\n",
    "EPOCHS = 65\n",
    "BATCH_SIZE = 128\n",
    "dropout_conv = 0.9 # Dropout, probability to keep units\n",
    "dropout_fc = 0.9 # Dropout, probability to keep units\n",
    "starter_learning_rate = 0.1\n",
    "rate = 0.001\n",
    "beta = tf.constant(0.01) # L2 regularization constant\n",
    "mu = 0\n",
    "sigma = 0.02\n",
    "\n",
    "# Placeholders\n",
    "x = tf.placeholder(tf.float32, (None, 32, 32, 1))\n",
    "y = tf.placeholder(tf.int32, (None))\n",
    "one_hot_y = tf.one_hot(y, n_classes)\n",
    "keep_prob_conv = tf.placeholder(tf.float32)\n",
    "keep_prob_fc = tf.placeholder(tf.float32)\n",
    "\n",
    "def conv2d(x, W, b, strides=1, padding='SAME'):\n",
    "    # Conv2D wrapper, with bias and relu activation\n",
    "    x = tf.nn.conv2d(x, W, strides=[1, strides, strides, 1], padding=padding)\n",
    "    x = tf.nn.bias_add(x, b)\n",
    "    return tf.nn.relu(x)\n",
    "\n",
    "def maxpool2d(x, k=2, padding='VALID'):\n",
    "    # MaxPool2D wrapper\n",
    "    return tf.nn.max_pool(x, ksize=[1, k, k, 1], strides=[1, k, k, 1], padding=padding)\n",
    "\n",
    "def conv_net(x, weights, biases, dropout_conv, dropout_fc):\n",
    "    # Convolution Layer\n",
    "    conv1 = conv2d(x, weights['conv1_W'], biases['conv1_b'])\n",
    "    # Max Pooling\n",
    "    conv1 = maxpool2d(conv1, k=2)\n",
    "    # Dropout\n",
    "    conv1 = tf.nn.dropout(conv1, dropout_conv)\n",
    "    \n",
    "    # Convolution Layer\n",
    "    conv2 = conv2d(conv1, weights['conv2_W'], biases['conv2_b'])\n",
    "    # Max Pooling\n",
    "    conv2 = maxpool2d(conv2, k=2)\n",
    "    # Dropout\n",
    "    conv2 = tf.nn.dropout(conv2, dropout_conv)\n",
    "    \n",
    "    # Convolution Layer\n",
    "    conv3 = conv2d(conv2, weights['conv3_W'], biases['conv3_b'])\n",
    "    # Max Pooling\n",
    "    conv3 = maxpool2d(conv3, k=2)\n",
    "    # Dropout\n",
    "    conv3 = tf.nn.dropout(conv3, dropout_conv)\n",
    "\n",
    "    # Fully connected layer\n",
    "    # Flatten\n",
    "    fc0 = flatten(conv3)\n",
    "    fc1 = tf.matmul(fc0, weights['fc1_W']) + biases['fc1_b']\n",
    "    fc1 = tf.nn.relu(fc1)\n",
    "    # Dropout\n",
    "    fc1 = tf.nn.dropout(fc1, dropout_fc)\n",
    "    \n",
    "    # Fully Connected\n",
    "    fc2 = tf.matmul(fc1, weights['fc2_W']) + biases['fc2_b']\n",
    "    fc2 = tf.nn.relu(fc2)\n",
    "    # Dropout\n",
    "    fc2 = tf.nn.dropout(fc2, dropout_fc)\n",
    "    \n",
    "    # Fully Connected\n",
    "    fc3 = tf.matmul(fc2, weights['fc3_W']) + biases['fc3_b']\n",
    "    fc3 = tf.nn.relu(fc3)\n",
    "    # Dropout\n",
    "    fc3 = tf.nn.dropout(fc3, dropout_fc)\n",
    "\n",
    "    # Fully Connected\n",
    "    logits = tf.matmul(fc3, weights['fc4_W']) + biases['fc4_b']\n",
    "\n",
    "    return logits\n",
    "\n",
    "weights = {\n",
    "    # Convolutional. Input = 32x32x1. Output = 32x32x6.\n",
    "    'conv1_W': tf.Variable(tf.truncated_normal(shape=(3, 3, 1, 6), mean=mu, stddev=sigma, seed=0, name='weights_conv1')),\n",
    "    # Convolutional. Input = 16x16x6. Output = 16x16x16\n",
    "    'conv2_W': tf.Variable(tf.truncated_normal(shape=(3, 3, 6, 16), mean=mu, stddev=sigma, seed=0, name='weights_conv2')),\n",
    "    # Convolutional. Input = 8x8x16. Output = 8x8x40\n",
    "    'conv3_W': tf.Variable(tf.truncated_normal(shape=(3, 3, 16, 40), mean=mu, stddev=sigma, seed=0, name='weights_conv3')),\n",
    "    # Fully Connected. Input = 640. Output = 320.\n",
    "    'fc1_W': tf.Variable(tf.truncated_normal(shape=(640, 320), mean=mu, stddev=sigma, seed=0, name='weights_fc1')),\n",
    "    # Fully Connected. Input = 320. Output = 120.\n",
    "    'fc2_W': tf.Variable(tf.truncated_normal(shape=(320, 120), mean=mu, stddev=sigma, seed=0, name='weights_fc2')),\n",
    "    # Input = 120. Output = 84\n",
    "    'fc3_W': tf.Variable(tf.truncated_normal(shape=(120, 84), mean=mu, stddev=sigma, seed=0, name='weights_fc3')),\n",
    "    # Fully Connected. Input = 84. Output = 43.\n",
    "    'fc4_W': tf.Variable(tf.truncated_normal(shape=(84, 43), mean=mu, stddev=sigma, seed=0, name='weights_fc4'))\n",
    "}\n",
    "\n",
    "biases = {\n",
    "    'conv1_b': tf.Variable(tf.zeros(6), name='biases_conv1'),\n",
    "    'conv2_b': tf.Variable(tf.zeros(16), name='biases_conv2'),\n",
    "    'conv3_b': tf.Variable(tf.zeros(40), name='biases_conv3'),\n",
    "    'fc1_b': tf.Variable(tf.zeros(320), name='biases_fc1'),\n",
    "    'fc2_b': tf.Variable(tf.zeros(120), name='biases_fc2'),\n",
    "    'fc3_b': tf.Variable(tf.zeros(84), name='biases_fc3'),\n",
    "    'fc4_b': tf.Variable(tf.zeros(43), name='biases_fc4')\n",
    "}\n",
    "\n",
    "# Construct model\n",
    "pred = conv_net(x, weights, biases, keep_prob_conv, keep_prob_fc)\n",
    "pred_prob = tf.nn.softmax(pred)\n",
    "\n",
    "# Define loss and optimizer\n",
    "loss = tf.reduce_mean(tf.nn.softmax_cross_entropy_with_logits(pred, one_hot_y))\n",
    "\n",
    "# Loss function using L2 Regularization\n",
    "regularizer = 0\n",
    "for w in weights:\n",
    "    regularizer += tf.nn.l2_loss(weights[w])\n",
    "# loss = tf.reduce_mean(loss + beta * regularizer)\n",
    "loss = tf.reduce_mean(loss)\n",
    "\n",
    "global_step = tf.Variable(0, trainable=False)\n",
    "learning_rate = tf.train.exponential_decay(starter_learning_rate, global_step, 50, 0.9, staircase=True)\n",
    "\n",
    "# Evaluate model\n",
    "correct_prediction = tf.equal(tf.argmax(pred, 1), tf.argmax(one_hot_y, 1))\n",
    "accuracy_operation = tf.reduce_mean(tf.cast(correct_prediction, tf.float32))\n",
    "\n",
    "optimizer = tf.train.AdamOptimizer(learning_rate = rate)\n",
    "training_operation = optimizer.minimize(loss, global_step=global_step)"
   ]
  },
  {
   "cell_type": "markdown",
   "metadata": {},
   "source": [
    "### Question 3\n",
    "\n",
    "_What does your final architecture look like? (Type of model, layers, sizes, connectivity, etc.)  For reference on how to build a deep neural network using TensorFlow, see [Deep Neural Network in TensorFlow\n",
    "](https://classroom.udacity.com/nanodegrees/nd013/parts/fbf77062-5703-404e-b60c-95b78b2f3f9e/modules/6df7ae49-c61c-4bb2-a23e-6527e69209ec/lessons/b516a270-8600-4f93-a0a3-20dfeabe5da6/concepts/83a3a2a2-a9bd-4b7b-95b0-eb924ab14432) from the classroom._\n"
   ]
  },
  {
   "cell_type": "markdown",
   "metadata": {},
   "source": [
    "**Answer:**\n",
    "\n",
    "A CNN of four convolutional layers and four fully connected layers are used here.\n",
    "\n",
    "#### Architecture\n",
    "* **Input Layer**—1@32x32\n",
    "* **Convolutional Layer 1**—6@32x32\n",
    "    * **Pooling Layer**—6@16x16\n",
    "    * **Relu**—6@16x16\n",
    "* **Convolutional Layer 2**—16@16x16\n",
    "    * **Pooling Layer**—16@8x8\n",
    "    * **Relu**—16@8x8\n",
    "* **Convolutional Layer 3**—40@8x8\n",
    "    * **Pooling Layer**—40@4x4\n",
    "    * **Relu**—40@4x4\n",
    "* **Fully Connected Layer 1**—640\n",
    "* **Fully Connected Layer 2**—320\n",
    "* **Fully Connected Layer 3**—120\n",
    "* **Output Layer**—84\n",
    "\n",
    "Kernel of size 3x3 is used across all convolutional layers so the architecture is a bit VGG like. A dropout of 0.9 is applied at the end of each layer including both convoluational and fully connected ones."
   ]
  },
  {
   "cell_type": "code",
   "execution_count": 250,
   "metadata": {
    "collapsed": true
   },
   "outputs": [],
   "source": [
    "def evaluate(X_data, y_data):\n",
    "    num_examples = len(X_data)\n",
    "    total_accuracy = 0\n",
    "    sess = tf.get_default_session()\n",
    "    for offset in range(0, num_examples, BATCH_SIZE):\n",
    "        batch_x, batch_y = X_data[offset:offset+BATCH_SIZE], y_data[offset:offset+BATCH_SIZE]\n",
    "        accuracy = sess.run(accuracy_operation, feed_dict={x: batch_x, y: batch_y, keep_prob_conv: 1., keep_prob_fc: 1.})\n",
    "        total_accuracy += (accuracy * len(batch_x))\n",
    "    return total_accuracy / num_examples"
   ]
  },
  {
   "cell_type": "code",
   "execution_count": 252,
   "metadata": {
    "collapsed": false,
    "scrolled": true
   },
   "outputs": [
    {
     "name": "stdout",
     "output_type": "stream",
     "text": [
      "Training...\n",
      "\n",
      "EPOCH 1 ...\n",
      "Validation Accuracy = 0.418\n",
      "\n",
      "EPOCH 1 ...\n",
      "Test Accuracy = 0.406\n",
      "\n",
      "EPOCH 2 ...\n",
      "Validation Accuracy = 0.725\n",
      "\n",
      "EPOCH 2 ...\n",
      "Test Accuracy = 0.685\n",
      "\n",
      "EPOCH 3 ...\n",
      "Validation Accuracy = 0.846\n",
      "\n",
      "EPOCH 3 ...\n",
      "Test Accuracy = 0.798\n",
      "\n",
      "EPOCH 4 ...\n",
      "Validation Accuracy = 0.902\n",
      "\n",
      "EPOCH 4 ...\n",
      "Test Accuracy = 0.841\n",
      "\n",
      "EPOCH 5 ...\n",
      "Validation Accuracy = 0.923\n",
      "\n",
      "EPOCH 5 ...\n",
      "Test Accuracy = 0.860\n",
      "\n",
      "EPOCH 6 ...\n",
      "Validation Accuracy = 0.943\n",
      "\n",
      "EPOCH 6 ...\n",
      "Test Accuracy = 0.874\n",
      "\n",
      "EPOCH 7 ...\n",
      "Validation Accuracy = 0.951\n",
      "\n",
      "EPOCH 7 ...\n",
      "Test Accuracy = 0.882\n",
      "\n",
      "EPOCH 8 ...\n",
      "Validation Accuracy = 0.954\n",
      "\n",
      "EPOCH 8 ...\n",
      "Test Accuracy = 0.882\n",
      "\n",
      "EPOCH 9 ...\n",
      "Validation Accuracy = 0.956\n",
      "\n",
      "EPOCH 9 ...\n",
      "Test Accuracy = 0.883\n",
      "\n",
      "EPOCH 10 ...\n",
      "Validation Accuracy = 0.966\n",
      "\n",
      "EPOCH 10 ...\n",
      "Test Accuracy = 0.892\n",
      "\n",
      "EPOCH 11 ...\n",
      "Validation Accuracy = 0.969\n",
      "\n",
      "EPOCH 11 ...\n",
      "Test Accuracy = 0.903\n",
      "\n",
      "EPOCH 12 ...\n",
      "Validation Accuracy = 0.969\n",
      "\n",
      "EPOCH 12 ...\n",
      "Test Accuracy = 0.897\n",
      "\n",
      "EPOCH 13 ...\n",
      "Validation Accuracy = 0.977\n",
      "\n",
      "EPOCH 13 ...\n",
      "Test Accuracy = 0.903\n",
      "\n",
      "EPOCH 14 ...\n",
      "Validation Accuracy = 0.978\n",
      "\n",
      "EPOCH 14 ...\n",
      "Test Accuracy = 0.908\n",
      "\n",
      "EPOCH 15 ...\n",
      "Validation Accuracy = 0.975\n",
      "\n",
      "EPOCH 15 ...\n",
      "Test Accuracy = 0.905\n",
      "\n",
      "EPOCH 16 ...\n",
      "Validation Accuracy = 0.979\n",
      "\n",
      "EPOCH 16 ...\n",
      "Test Accuracy = 0.904\n",
      "\n",
      "EPOCH 17 ...\n",
      "Validation Accuracy = 0.980\n",
      "\n",
      "EPOCH 17 ...\n",
      "Test Accuracy = 0.911\n",
      "\n",
      "EPOCH 18 ...\n",
      "Validation Accuracy = 0.981\n",
      "\n",
      "EPOCH 18 ...\n",
      "Test Accuracy = 0.909\n",
      "\n",
      "EPOCH 19 ...\n",
      "Validation Accuracy = 0.979\n",
      "\n",
      "EPOCH 19 ...\n",
      "Test Accuracy = 0.906\n",
      "\n",
      "EPOCH 20 ...\n",
      "Validation Accuracy = 0.982\n",
      "\n",
      "EPOCH 20 ...\n",
      "Test Accuracy = 0.910\n",
      "\n",
      "EPOCH 21 ...\n",
      "Validation Accuracy = 0.979\n",
      "\n",
      "EPOCH 21 ...\n",
      "Test Accuracy = 0.908\n",
      "\n",
      "EPOCH 22 ...\n",
      "Validation Accuracy = 0.985\n",
      "\n",
      "EPOCH 22 ...\n",
      "Test Accuracy = 0.910\n",
      "\n",
      "EPOCH 23 ...\n",
      "Validation Accuracy = 0.984\n",
      "\n",
      "EPOCH 23 ...\n",
      "Test Accuracy = 0.913\n",
      "\n",
      "EPOCH 24 ...\n",
      "Validation Accuracy = 0.978\n",
      "\n",
      "EPOCH 24 ...\n",
      "Test Accuracy = 0.910\n",
      "\n",
      "EPOCH 25 ...\n",
      "Validation Accuracy = 0.981\n",
      "\n",
      "EPOCH 25 ...\n",
      "Test Accuracy = 0.909\n",
      "\n",
      "EPOCH 26 ...\n",
      "Validation Accuracy = 0.980\n",
      "\n",
      "EPOCH 26 ...\n",
      "Test Accuracy = 0.912\n",
      "\n",
      "EPOCH 27 ...\n",
      "Validation Accuracy = 0.983\n",
      "\n",
      "EPOCH 27 ...\n",
      "Test Accuracy = 0.905\n",
      "\n",
      "EPOCH 28 ...\n",
      "Validation Accuracy = 0.988\n",
      "\n",
      "EPOCH 28 ...\n",
      "Test Accuracy = 0.911\n",
      "\n",
      "EPOCH 29 ...\n",
      "Validation Accuracy = 0.987\n",
      "\n",
      "EPOCH 29 ...\n",
      "Test Accuracy = 0.910\n",
      "\n",
      "EPOCH 30 ...\n",
      "Validation Accuracy = 0.983\n",
      "\n",
      "EPOCH 30 ...\n",
      "Test Accuracy = 0.909\n",
      "\n",
      "EPOCH 31 ...\n",
      "Validation Accuracy = 0.987\n",
      "\n",
      "EPOCH 31 ...\n",
      "Test Accuracy = 0.917\n",
      "\n",
      "EPOCH 32 ...\n",
      "Validation Accuracy = 0.986\n",
      "\n",
      "EPOCH 32 ...\n",
      "Test Accuracy = 0.906\n",
      "\n",
      "EPOCH 33 ...\n",
      "Validation Accuracy = 0.981\n",
      "\n",
      "EPOCH 33 ...\n",
      "Test Accuracy = 0.905\n",
      "\n",
      "EPOCH 34 ...\n",
      "Validation Accuracy = 0.985\n",
      "\n",
      "EPOCH 34 ...\n",
      "Test Accuracy = 0.914\n",
      "\n",
      "EPOCH 35 ...\n",
      "Validation Accuracy = 0.987\n",
      "\n",
      "EPOCH 35 ...\n",
      "Test Accuracy = 0.913\n",
      "\n",
      "EPOCH 36 ...\n",
      "Validation Accuracy = 0.984\n",
      "\n",
      "EPOCH 36 ...\n",
      "Test Accuracy = 0.911\n",
      "\n",
      "EPOCH 37 ...\n",
      "Validation Accuracy = 0.984\n",
      "\n",
      "EPOCH 37 ...\n",
      "Test Accuracy = 0.909\n",
      "\n",
      "EPOCH 38 ...\n",
      "Validation Accuracy = 0.984\n",
      "\n",
      "EPOCH 38 ...\n",
      "Test Accuracy = 0.907\n",
      "\n",
      "EPOCH 39 ...\n",
      "Validation Accuracy = 0.989\n",
      "\n",
      "EPOCH 39 ...\n",
      "Test Accuracy = 0.918\n",
      "\n",
      "EPOCH 40 ...\n",
      "Validation Accuracy = 0.987\n",
      "\n",
      "EPOCH 40 ...\n",
      "Test Accuracy = 0.911\n",
      "\n",
      "EPOCH 41 ...\n",
      "Validation Accuracy = 0.986\n",
      "\n",
      "EPOCH 41 ...\n",
      "Test Accuracy = 0.912\n",
      "\n",
      "EPOCH 42 ...\n",
      "Validation Accuracy = 0.986\n",
      "\n",
      "EPOCH 42 ...\n",
      "Test Accuracy = 0.908\n",
      "\n",
      "EPOCH 43 ...\n",
      "Validation Accuracy = 0.989\n",
      "\n",
      "EPOCH 43 ...\n",
      "Test Accuracy = 0.917\n",
      "\n",
      "EPOCH 44 ...\n",
      "Validation Accuracy = 0.990\n",
      "\n",
      "EPOCH 44 ...\n",
      "Test Accuracy = 0.916\n",
      "\n",
      "EPOCH 45 ...\n",
      "Validation Accuracy = 0.989\n",
      "\n",
      "EPOCH 45 ...\n",
      "Test Accuracy = 0.920\n",
      "\n",
      "EPOCH 46 ...\n",
      "Validation Accuracy = 0.988\n",
      "\n",
      "EPOCH 46 ...\n",
      "Test Accuracy = 0.915\n",
      "\n",
      "EPOCH 47 ...\n",
      "Validation Accuracy = 0.990\n",
      "\n",
      "EPOCH 47 ...\n",
      "Test Accuracy = 0.917\n",
      "\n",
      "EPOCH 48 ...\n",
      "Validation Accuracy = 0.988\n",
      "\n",
      "EPOCH 48 ...\n",
      "Test Accuracy = 0.914\n",
      "\n",
      "EPOCH 49 ...\n",
      "Validation Accuracy = 0.986\n",
      "\n",
      "EPOCH 49 ...\n",
      "Test Accuracy = 0.914\n",
      "\n",
      "EPOCH 50 ...\n",
      "Validation Accuracy = 0.985\n",
      "\n",
      "EPOCH 50 ...\n",
      "Test Accuracy = 0.917\n",
      "\n",
      "EPOCH 51 ...\n",
      "Validation Accuracy = 0.990\n",
      "\n",
      "EPOCH 51 ...\n",
      "Test Accuracy = 0.916\n",
      "\n",
      "EPOCH 52 ...\n",
      "Validation Accuracy = 0.988\n",
      "\n",
      "EPOCH 52 ...\n",
      "Test Accuracy = 0.914\n",
      "\n",
      "EPOCH 53 ...\n",
      "Validation Accuracy = 0.986\n",
      "\n",
      "EPOCH 53 ...\n",
      "Test Accuracy = 0.915\n",
      "\n",
      "EPOCH 54 ...\n",
      "Validation Accuracy = 0.990\n",
      "\n",
      "EPOCH 54 ...\n",
      "Test Accuracy = 0.917\n",
      "\n",
      "EPOCH 55 ...\n",
      "Validation Accuracy = 0.988\n",
      "\n",
      "EPOCH 55 ...\n",
      "Test Accuracy = 0.914\n",
      "\n",
      "EPOCH 56 ...\n",
      "Validation Accuracy = 0.988\n",
      "\n",
      "EPOCH 56 ...\n",
      "Test Accuracy = 0.915\n",
      "\n",
      "EPOCH 57 ...\n",
      "Validation Accuracy = 0.990\n",
      "\n",
      "EPOCH 57 ...\n",
      "Test Accuracy = 0.915\n",
      "\n",
      "EPOCH 58 ...\n",
      "Validation Accuracy = 0.987\n",
      "\n",
      "EPOCH 58 ...\n",
      "Test Accuracy = 0.915\n",
      "\n",
      "EPOCH 59 ...\n",
      "Validation Accuracy = 0.990\n",
      "\n",
      "EPOCH 59 ...\n",
      "Test Accuracy = 0.919\n",
      "\n",
      "EPOCH 60 ...\n",
      "Validation Accuracy = 0.984\n",
      "\n",
      "EPOCH 60 ...\n",
      "Test Accuracy = 0.911\n",
      "\n",
      "EPOCH 61 ...\n",
      "Validation Accuracy = 0.988\n",
      "\n",
      "EPOCH 61 ...\n",
      "Test Accuracy = 0.917\n",
      "\n",
      "EPOCH 62 ...\n",
      "Validation Accuracy = 0.986\n",
      "\n",
      "EPOCH 62 ...\n",
      "Test Accuracy = 0.913\n",
      "\n",
      "EPOCH 63 ...\n",
      "Validation Accuracy = 0.990\n",
      "\n",
      "EPOCH 63 ...\n",
      "Test Accuracy = 0.917\n",
      "\n",
      "EPOCH 64 ...\n",
      "Validation Accuracy = 0.989\n",
      "\n",
      "EPOCH 64 ...\n",
      "Test Accuracy = 0.922\n",
      "\n",
      "EPOCH 65 ...\n",
      "Validation Accuracy = 0.990\n",
      "\n",
      "EPOCH 65 ...\n",
      "Test Accuracy = 0.920\n",
      "\n",
      "Model saved\n",
      "Training/Predicting took 1297.8007616996765 seconds.\n"
     ]
    }
   ],
   "source": [
    "import time\n",
    "start_time = time.time()\n",
    "\n",
    "with tf.Session() as sess:\n",
    "    sess.run(tf.global_variables_initializer())\n",
    "#     sess.run(tf.initialize_all_variables())\n",
    "    \n",
    "    num_examples = len(X_train)\n",
    "    \n",
    "    print(\"Training...\")\n",
    "    print()\n",
    "    for i in range(EPOCHS):\n",
    "#         X_train, y_train = shuffle(X_train, y_train)\n",
    "        for offset in range(0, num_examples, BATCH_SIZE):\n",
    "            end = offset + BATCH_SIZE\n",
    "            batch_x, batch_y = X_train[offset:end], y_train[offset:end]\n",
    "            sess.run(training_operation, feed_dict={x: batch_x, y: batch_y, keep_prob_conv: dropout_conv, keep_prob_fc: dropout_fc})\n",
    "            \n",
    "        validation_accuracy = evaluate(X_validation, y_validation)\n",
    "        print(\"EPOCH {} ...\".format(i+1))\n",
    "        print(\"Validation Accuracy = {:.3f}\".format(validation_accuracy))\n",
    "        print()\n",
    "        \n",
    "        test_accuracy = evaluate(X_test, y_test)\n",
    "        print(\"EPOCH {} ...\".format(i+1))\n",
    "        print(\"Test Accuracy = {:.3f}\".format(test_accuracy))\n",
    "        print()\n",
    "\n",
    "    try:\n",
    "        saver\n",
    "    except NameError:\n",
    "        saver = tf.train.Saver()\n",
    "    saver.save(sess, 'mynet')\n",
    "    print(\"Model saved\")\n",
    "\n",
    "print(\"Training/Predicting took {} seconds.\".format(time.time() - start_time))"
   ]
  },
  {
   "cell_type": "markdown",
   "metadata": {},
   "source": [
    "### Question 4\n",
    "\n",
    "_How did you train your model? (Type of optimizer, batch size, epochs, hyperparameters, etc.)_\n"
   ]
  },
  {
   "cell_type": "markdown",
   "metadata": {},
   "source": [
    "**Answer:**\n",
    "#### Hyperparameters\n",
    "* **Number of Epochs and batch size:**\n",
    "    * EPOCHS = 70\n",
    "    * BATCH_SIZE = 256\n",
    "* **Dropout rate**:\n",
    "    * Rate for convolutional layer: dropout_conv = 0.9\n",
    "    * Rate for convolutional layer: dropout_fc = 0.9\n",
    "* **Optimizer**:\n",
    "    * Adam Optimizer with learning rate dacay\n",
    "        * Initial learning rate: starter_learning_rate = 0.1\n",
    "        * Discount factor: 0.9\n",
    "        * Stop decaying after 50 epochs\n",
    "* **Initial weight settings**:\n",
    "    * mu = 0\n",
    "    * sigma = 0.1"
   ]
  },
  {
   "cell_type": "markdown",
   "metadata": {},
   "source": [
    "### Question 5\n",
    "\n",
    "\n",
    "_What approach did you take in coming up with a solution to this problem? It may have been a process of trial and error, in which case, outline the steps you took to get to the final solution and why you chose those steps. Perhaps your solution involved an already well known implementation or architecture. In this case, discuss why you think this is suitable for the current problem._"
   ]
  },
  {
   "cell_type": "markdown",
   "metadata": {},
   "source": [
    "**Answer:**\n",
    "\n",
    "It is known that the same DNN architecture can be useful for addressing different problems. In our case the LeNet was originally used for classifying images. So as suggested I decided to use LeNet as a starting point.\n",
    "\n",
    "Below are the steps and I took to come up with the current solution.\n",
    "\n",
    "1. **LeNet Template—**as said earlier, I used the same CNN architecture with exactly the same hyperparameter settings. And ended up with a quite good result at around 95%.\n",
    "\n",
    "2. **L2 Regularization—**tried L2 regularization, which boosted the performance to 96%.\n",
    "\n",
    "3. **Dropout—**added 0.8 dropout along with the L2 regularization, which boosted the performance around 0.3~0.5%. Also I took the chance to refactor my code so that I can change the dropout rate to 1.0 when testing the model on the validation dataset. I experimented a bit with the dropout rate and managed to achieve about 2% improvement in accuracy. The accuracy is now at around 98.2%.\n",
    "\n",
    "4. **Removed L2 Regularization—**this boosted the performance about 0.1%, which is probably negligible. Nonetheless the extra complexity doesn't add anything to the game so I decided to remove it.\n",
    "\n",
    "5. **Image normalization and PCA grayscaling—**I combined the 3 channels of the image into 1 while preserving about 95% of variance, which I believe is a far better way than just flattening the channels with average. Also normalization is applied to each image to give each image the same exposure. The two methods combines gives about 0.1% performance boost, which is probably, again, negligible. However, grayscaling itself should make it easier to train the CNN, and so is normalization. It won't hurt and is potentially good for later so it's a keeper.\n",
    "\n",
    "6. **Data Augmentation—**I decided to give data augmentation a try. I won't go into detail about the data augmentation as it is already answered in Question 2. I was acutally really excited about data augmentation. Unfortunately it doesn't help. It could be due to the way I do it, or that the augmented images are really different from the original data source. That said, it doesn't hurt either. I was thinking that maybe I could experiment it a bit further later. So it's a keeper.\n",
    "\n",
    "7. **Number of Epochs—**one thing I didn't mention is that I change the epoch numbers each time I added something to the recipe. Basically each time a change is made it makes the network somewhat different and may require more or less training iterations. So I would examine the training history and change it accordingly.\n",
    "\n",
    "8. **Batch size—**rumor has it that the smaller the batch size usually the better (at the cost of longer training time). I would like to see if this rumor works in my case so gave it a shot. The original LeNet network was training using a batch of size 128. I experimented 16, 64 and realized it wasn't helping. So I tried 256 to see if it'd make it any worse. Turned out it not only it wasn't making it any worse, it also shortened the training time by a lot, without compromising the performance.\n",
    "\n",
    "9. **CNN Architecture—**I didn't want to start changing the network architecture early on because the design of CNN architecture seems to be a completely trial-and-error process. LeNet was one of the early design that was proven useful, so I thought it should be quite robust and didn't want to do much change to it until necessary. At this point I was running out of ideas of what to try so decided to give VGG a try. Below are th changes I made to the network:\n",
    "    * Changed kernel size to 3\n",
    "    * Changed padding to 'SAME' to that it's easier to manage the layer dimensions\n",
    "    * Added one extra convolutional layer and adjusted the widths of each layer a bit\n",
    "    * Added one extra fully connected layer and adjusted the widths of each layer a bit\n",
    "    \n",
    "    The result turned out to be amazing. It added about 1% accuracy to the already quite good result.\n",
    "    \n",
    "10. **Use learning rate decay in Adam Optimizer—**it gives another extra boost of 0.1~0.2% to the accuracy and seems to make the result more robust (the result didn't fluctuate as much now).\n",
    "\n",
    "11. **Other minor changes—**I tried tuning a few other parameters, such as mean and standard deviation of the inital weights, tuning dropout rates for convolutional layer and fully connected layers separately. Different optimizers and different learning rate hyperparameters. Can't remember what are kept and what aren't. In the end the result is at about 99.3% on the validation dataset."
   ]
  },
  {
   "cell_type": "markdown",
   "metadata": {},
   "source": [
    "---\n",
    "\n",
    "## Step 3: Test a Model on New Images\n",
    "\n",
    "Take several pictures of traffic signs that you find on the web or around you (at least five), and run them through your classifier on your computer to produce example results. The classifier might not recognize some local signs but it could prove interesting nonetheless.\n",
    "\n",
    "You may find `signnames.csv` useful as it contains mappings from the class id (integer) to the actual sign name."
   ]
  },
  {
   "cell_type": "markdown",
   "metadata": {},
   "source": [
    "### Implementation\n",
    "\n",
    "Use the code cell (or multiple code cells, if necessary) to implement the first step of your project. Once you have completed your implementation and are satisfied with the results, be sure to thoroughly answer the questions that follow."
   ]
  },
  {
   "cell_type": "code",
   "execution_count": 189,
   "metadata": {
    "collapsed": false
   },
   "outputs": [],
   "source": [
    "import os\n",
    "\n",
    "def load_images_from_folder(folder):\n",
    "    images = []\n",
    "    for filename in os.listdir(folder):\n",
    "        img = plt.imread(os.path.join(folder,filename))\n",
    "        if img is not None:\n",
    "            images.append(img)\n",
    "    return images\n",
    "\n",
    "new_images = load_images_from_folder('sign_examples/converted')"
   ]
  },
  {
   "cell_type": "code",
   "execution_count": 220,
   "metadata": {
    "collapsed": false
   },
   "outputs": [
    {
     "name": "stdout",
     "output_type": "stream",
     "text": [
      "Number of new images: 11\n",
      "Image dimension: (32, 32, 3)\n"
     ]
    },
    {
     "data": {
      "image/png": "[encoded data removed]",
      "text/plain": [
       "<matplotlib.figure.Figure at 0x7fe23026e7f0>"
      ]
     },
     "metadata": {},
     "output_type": "display_data"
    },
    {
     "name": "stdout",
     "output_type": "stream",
     "text": [
      "0\n"
     ]
    },
    {
     "data": {
      "image/png": "[encoded data removed]",
      "text/plain": [
       "<matplotlib.figure.Figure at 0x7fe22faa9b38>"
      ]
     },
     "metadata": {},
     "output_type": "display_data"
    },
    {
     "name": "stdout",
     "output_type": "stream",
     "text": [
      "1\n"
     ]
    },
    {
     "data": {
      "image/png": "[encoded data removed]",
      "text/plain": [
       "<matplotlib.figure.Figure at 0x7fe22fa49668>"
      ]
     },
     "metadata": {},
     "output_type": "display_data"
    },
    {
     "name": "stdout",
     "output_type": "stream",
     "text": [
      "2\n"
     ]
    },
    {
     "data": {
      "image/png": "[encoded data removed]",
      "text/plain": [
       "<matplotlib.figure.Figure at 0x7fe22f9ddc50>"
      ]
     },
     "metadata": {},
     "output_type": "display_data"
    },
    {
     "name": "stdout",
     "output_type": "stream",
     "text": [
      "3\n"
     ]
    },
    {
     "data": {
      "image/png": "[encoded data removed]",
      "text/plain": [
       "<matplotlib.figure.Figure at 0x7fe22fa10438>"
      ]
     },
     "metadata": {},
     "output_type": "display_data"
    },
    {
     "name": "stdout",
     "output_type": "stream",
     "text": [
      "4\n"
     ]
    },
    {
     "data": {
      "image/png": "[encoded data removed]",
      "text/plain": [
       "<matplotlib.figure.Figure at 0x7fe22fa72208>"
      ]
     },
     "metadata": {},
     "output_type": "display_data"
    },
    {
     "name": "stdout",
     "output_type": "stream",
     "text": [
      "5\n"
     ]
    },
    {
     "data": {
      "image/png": "[encoded data removed]",
      "text/plain": [
       "<matplotlib.figure.Figure at 0x7fe230234b38>"
      ]
     },
     "metadata": {},
     "output_type": "display_data"
    },
    {
     "name": "stdout",
     "output_type": "stream",
     "text": [
      "6\n"
     ]
    },
    {
     "data": {
      "image/png": "[encoded data removed]",
      "text/plain": [
       "<matplotlib.figure.Figure at 0x7fe22f59e908>"
      ]
     },
     "metadata": {},
     "output_type": "display_data"
    },
    {
     "name": "stdout",
     "output_type": "stream",
     "text": [
      "7\n"
     ]
    },
    {
     "data": {
      "image/png": "[encoded data removed]",
      "text/plain": [
       "<matplotlib.figure.Figure at 0x7fe2315e4080>"
      ]
     },
     "metadata": {},
     "output_type": "display_data"
    },
    {
     "name": "stdout",
     "output_type": "stream",
     "text": [
      "8\n"
     ]
    },
    {
     "data": {
      "image/png": "[encoded data removed]",
      "text/plain": [
       "<matplotlib.figure.Figure at 0x7fe2302749e8>"
      ]
     },
     "metadata": {},
     "output_type": "display_data"
    },
    {
     "name": "stdout",
     "output_type": "stream",
     "text": [
      "9\n"
     ]
    },
    {
     "data": {
      "image/png": "[encoded data removed]",
      "text/plain": [
       "<matplotlib.figure.Figure at 0x7fe2313b6b00>"
      ]
     },
     "metadata": {},
     "output_type": "display_data"
    },
    {
     "name": "stdout",
     "output_type": "stream",
     "text": [
      "10\n"
     ]
    }
   ],
   "source": [
    "print(\"Number of new images: {}\".format(len(new_images)))\n",
    "print(\"Image dimension: {}\".format(new_images[0].shape))\n",
    "for i, image in enumerate(new_images):\n",
    "    plt.figure(figsize=(1,1))\n",
    "    plt.imshow(image)\n",
    "    plt.show()\n",
    "    print(i)"
   ]
  },
  {
   "cell_type": "code",
   "execution_count": 191,
   "metadata": {
    "collapsed": true
   },
   "outputs": [],
   "source": [
    "new_images_gray = []\n",
    "\n",
    "for image in new_images:\n",
    "    new_images_gray.append(process_image(image))\n",
    "\n",
    "new_images_gray = np.asarray(new_images_gray)"
   ]
  },
  {
   "cell_type": "code",
   "execution_count": 192,
   "metadata": {
    "collapsed": false
   },
   "outputs": [
    {
     "name": "stdout",
     "output_type": "stream",
     "text": [
      "4\n",
      "(32, 32)\n"
     ]
    },
    {
     "data": {
      "image/png": "[encoded data removed]",
      "text/plain": [
       "<matplotlib.figure.Figure at 0x7fe22f3d7f28>"
      ]
     },
     "metadata": {},
     "output_type": "display_data"
    }
   ],
   "source": [
    "index = random.randint(0, len(new_images_gray))\n",
    "\n",
    "plt.figure(figsize=(1,1))\n",
    "plt.imshow(new_images_gray[0], cmap='gray')\n",
    "print(index)\n",
    "print(new_images_gray[0].shape)"
   ]
  },
  {
   "cell_type": "code",
   "execution_count": 193,
   "metadata": {
    "collapsed": true
   },
   "outputs": [],
   "source": [
    "new_images_reshape = []\n",
    "\n",
    "for image in new_images_gray:\n",
    "    new_images_reshape.append(np.expand_dims(image, axis=2))\n",
    "\n",
    "new_images_reshape = np.asarray(new_images_reshape)"
   ]
  },
  {
   "cell_type": "code",
   "execution_count": 194,
   "metadata": {
    "collapsed": false
   },
   "outputs": [],
   "source": [
    "# Create placeholder labels for new_images\n",
    "new_images_y = np.array([13, 18, 1, 0, 17, 28, 1, 18, 36, 17, 38])"
   ]
  },
  {
   "cell_type": "code",
   "execution_count": 195,
   "metadata": {
    "collapsed": false
   },
   "outputs": [
    {
     "name": "stdout",
     "output_type": "stream",
     "text": [
      "[13 18  1  0 17]\n",
      "(11,)\n"
     ]
    }
   ],
   "source": [
    "print(new_images_y[:5])\n",
    "print(new_images_y.shape)"
   ]
  },
  {
   "cell_type": "code",
   "execution_count": 196,
   "metadata": {
    "collapsed": false
   },
   "outputs": [
    {
     "name": "stdout",
     "output_type": "stream",
     "text": [
      "Training...\n",
      "\n",
      "EPOCH 1 ...\n",
      "Validation Accuracy = 0.501\n",
      "\n",
      "EPOCH 1 ...\n",
      "New Images Accuracy = 0.273\n",
      "\n",
      "EPOCH 2 ...\n",
      "Validation Accuracy = 0.760\n",
      "\n",
      "EPOCH 2 ...\n",
      "New Images Accuracy = 0.364\n",
      "\n",
      "EPOCH 3 ...\n",
      "Validation Accuracy = 0.856\n",
      "\n",
      "EPOCH 3 ...\n",
      "New Images Accuracy = 0.364\n",
      "\n",
      "EPOCH 4 ...\n",
      "Validation Accuracy = 0.911\n",
      "\n",
      "EPOCH 4 ...\n",
      "New Images Accuracy = 0.545\n",
      "\n",
      "EPOCH 5 ...\n",
      "Validation Accuracy = 0.925\n",
      "\n",
      "EPOCH 5 ...\n",
      "New Images Accuracy = 0.364\n",
      "\n",
      "EPOCH 6 ...\n",
      "Validation Accuracy = 0.935\n",
      "\n",
      "EPOCH 6 ...\n",
      "New Images Accuracy = 0.455\n",
      "\n",
      "EPOCH 7 ...\n",
      "Validation Accuracy = 0.952\n",
      "\n",
      "EPOCH 7 ...\n",
      "New Images Accuracy = 0.455\n",
      "\n",
      "EPOCH 8 ...\n",
      "Validation Accuracy = 0.961\n",
      "\n",
      "EPOCH 8 ...\n",
      "New Images Accuracy = 0.364\n",
      "\n",
      "EPOCH 9 ...\n",
      "Validation Accuracy = 0.962\n",
      "\n",
      "EPOCH 9 ...\n",
      "New Images Accuracy = 0.364\n",
      "\n",
      "EPOCH 10 ...\n",
      "Validation Accuracy = 0.972\n",
      "\n",
      "EPOCH 10 ...\n",
      "New Images Accuracy = 0.364\n",
      "\n",
      "EPOCH 11 ...\n",
      "Validation Accuracy = 0.970\n",
      "\n",
      "EPOCH 11 ...\n",
      "New Images Accuracy = 0.455\n",
      "\n",
      "EPOCH 12 ...\n",
      "Validation Accuracy = 0.973\n",
      "\n",
      "EPOCH 12 ...\n",
      "New Images Accuracy = 0.364\n",
      "\n",
      "EPOCH 13 ...\n",
      "Validation Accuracy = 0.970\n",
      "\n",
      "EPOCH 13 ...\n",
      "New Images Accuracy = 0.273\n",
      "\n",
      "EPOCH 14 ...\n",
      "Validation Accuracy = 0.978\n",
      "\n",
      "EPOCH 14 ...\n",
      "New Images Accuracy = 0.364\n",
      "\n",
      "EPOCH 15 ...\n",
      "Validation Accuracy = 0.969\n",
      "\n",
      "EPOCH 15 ...\n",
      "New Images Accuracy = 0.455\n",
      "\n",
      "EPOCH 16 ...\n",
      "Validation Accuracy = 0.979\n",
      "\n",
      "EPOCH 16 ...\n",
      "New Images Accuracy = 0.273\n",
      "\n",
      "EPOCH 17 ...\n",
      "Validation Accuracy = 0.976\n",
      "\n",
      "EPOCH 17 ...\n",
      "New Images Accuracy = 0.364\n",
      "\n",
      "EPOCH 18 ...\n",
      "Validation Accuracy = 0.979\n",
      "\n",
      "EPOCH 18 ...\n",
      "New Images Accuracy = 0.273\n",
      "\n",
      "EPOCH 19 ...\n",
      "Validation Accuracy = 0.982\n",
      "\n",
      "EPOCH 19 ...\n",
      "New Images Accuracy = 0.455\n",
      "\n",
      "EPOCH 20 ...\n",
      "Validation Accuracy = 0.980\n",
      "\n",
      "EPOCH 20 ...\n",
      "New Images Accuracy = 0.364\n",
      "\n",
      "EPOCH 21 ...\n",
      "Validation Accuracy = 0.982\n",
      "\n",
      "EPOCH 21 ...\n",
      "New Images Accuracy = 0.364\n",
      "\n",
      "EPOCH 22 ...\n",
      "Validation Accuracy = 0.976\n",
      "\n",
      "EPOCH 22 ...\n",
      "New Images Accuracy = 0.364\n",
      "\n",
      "EPOCH 23 ...\n",
      "Validation Accuracy = 0.986\n",
      "\n",
      "EPOCH 23 ...\n",
      "New Images Accuracy = 0.364\n",
      "\n",
      "EPOCH 24 ...\n",
      "Validation Accuracy = 0.984\n",
      "\n",
      "EPOCH 24 ...\n",
      "New Images Accuracy = 0.364\n",
      "\n",
      "EPOCH 25 ...\n",
      "Validation Accuracy = 0.984\n",
      "\n",
      "EPOCH 25 ...\n",
      "New Images Accuracy = 0.364\n",
      "\n",
      "EPOCH 26 ...\n",
      "Validation Accuracy = 0.982\n",
      "\n",
      "EPOCH 26 ...\n",
      "New Images Accuracy = 0.364\n",
      "\n",
      "EPOCH 27 ...\n",
      "Validation Accuracy = 0.980\n",
      "\n",
      "EPOCH 27 ...\n",
      "New Images Accuracy = 0.364\n",
      "\n",
      "EPOCH 28 ...\n",
      "Validation Accuracy = 0.981\n",
      "\n",
      "EPOCH 28 ...\n",
      "New Images Accuracy = 0.545\n",
      "\n",
      "EPOCH 29 ...\n",
      "Validation Accuracy = 0.983\n",
      "\n",
      "EPOCH 29 ...\n",
      "New Images Accuracy = 0.455\n",
      "\n",
      "EPOCH 30 ...\n",
      "Validation Accuracy = 0.985\n",
      "\n",
      "EPOCH 30 ...\n",
      "New Images Accuracy = 0.455\n",
      "\n",
      "EPOCH 31 ...\n",
      "Validation Accuracy = 0.987\n",
      "\n",
      "EPOCH 31 ...\n",
      "New Images Accuracy = 0.455\n",
      "\n",
      "EPOCH 32 ...\n",
      "Validation Accuracy = 0.984\n",
      "\n",
      "EPOCH 32 ...\n",
      "New Images Accuracy = 0.364\n",
      "\n",
      "EPOCH 33 ...\n",
      "Validation Accuracy = 0.987\n",
      "\n",
      "EPOCH 33 ...\n",
      "New Images Accuracy = 0.455\n",
      "\n",
      "EPOCH 34 ...\n",
      "Validation Accuracy = 0.986\n",
      "\n",
      "EPOCH 34 ...\n",
      "New Images Accuracy = 0.364\n",
      "\n",
      "EPOCH 35 ...\n",
      "Validation Accuracy = 0.989\n",
      "\n",
      "EPOCH 35 ...\n",
      "New Images Accuracy = 0.455\n",
      "\n",
      "EPOCH 36 ...\n",
      "Validation Accuracy = 0.982\n",
      "\n",
      "EPOCH 36 ...\n",
      "New Images Accuracy = 0.364\n",
      "\n",
      "EPOCH 37 ...\n",
      "Validation Accuracy = 0.988\n",
      "\n",
      "EPOCH 37 ...\n",
      "New Images Accuracy = 0.455\n",
      "\n",
      "EPOCH 38 ...\n",
      "Validation Accuracy = 0.987\n",
      "\n",
      "EPOCH 38 ...\n",
      "New Images Accuracy = 0.364\n",
      "\n",
      "EPOCH 39 ...\n",
      "Validation Accuracy = 0.985\n",
      "\n",
      "EPOCH 39 ...\n",
      "New Images Accuracy = 0.455\n",
      "\n",
      "EPOCH 40 ...\n",
      "Validation Accuracy = 0.984\n",
      "\n",
      "EPOCH 40 ...\n",
      "New Images Accuracy = 0.364\n",
      "\n",
      "EPOCH 41 ...\n",
      "Validation Accuracy = 0.986\n",
      "\n",
      "EPOCH 41 ...\n",
      "New Images Accuracy = 0.455\n",
      "\n",
      "EPOCH 42 ...\n",
      "Validation Accuracy = 0.987\n",
      "\n",
      "EPOCH 42 ...\n",
      "New Images Accuracy = 0.273\n",
      "\n",
      "EPOCH 43 ...\n",
      "Validation Accuracy = 0.984\n",
      "\n",
      "EPOCH 43 ...\n",
      "New Images Accuracy = 0.455\n",
      "\n",
      "EPOCH 44 ...\n",
      "Validation Accuracy = 0.986\n",
      "\n",
      "EPOCH 44 ...\n",
      "New Images Accuracy = 0.273\n",
      "\n",
      "EPOCH 45 ...\n",
      "Validation Accuracy = 0.987\n",
      "\n",
      "EPOCH 45 ...\n",
      "New Images Accuracy = 0.273\n",
      "\n",
      "EPOCH 46 ...\n",
      "Validation Accuracy = 0.984\n",
      "\n",
      "EPOCH 46 ...\n",
      "New Images Accuracy = 0.455\n",
      "\n",
      "EPOCH 47 ...\n",
      "Validation Accuracy = 0.987\n",
      "\n",
      "EPOCH 47 ...\n",
      "New Images Accuracy = 0.364\n",
      "\n",
      "EPOCH 48 ...\n",
      "Validation Accuracy = 0.987\n",
      "\n",
      "EPOCH 48 ...\n",
      "New Images Accuracy = 0.364\n",
      "\n",
      "EPOCH 49 ...\n",
      "Validation Accuracy = 0.989\n",
      "\n",
      "EPOCH 49 ...\n",
      "New Images Accuracy = 0.455\n",
      "\n",
      "EPOCH 50 ...\n",
      "Validation Accuracy = 0.989\n",
      "\n",
      "EPOCH 50 ...\n",
      "New Images Accuracy = 0.364\n",
      "\n",
      "EPOCH 51 ...\n",
      "Validation Accuracy = 0.986\n",
      "\n",
      "EPOCH 51 ...\n",
      "New Images Accuracy = 0.455\n",
      "\n",
      "EPOCH 52 ...\n",
      "Validation Accuracy = 0.989\n",
      "\n",
      "EPOCH 52 ...\n",
      "New Images Accuracy = 0.364\n",
      "\n",
      "EPOCH 53 ...\n",
      "Validation Accuracy = 0.989\n",
      "\n",
      "EPOCH 53 ...\n",
      "New Images Accuracy = 0.273\n",
      "\n",
      "EPOCH 54 ...\n",
      "Validation Accuracy = 0.989\n",
      "\n",
      "EPOCH 54 ...\n",
      "New Images Accuracy = 0.273\n",
      "\n",
      "EPOCH 55 ...\n",
      "Validation Accuracy = 0.988\n",
      "\n",
      "EPOCH 55 ...\n",
      "New Images Accuracy = 0.455\n",
      "\n",
      "EPOCH 56 ...\n",
      "Validation Accuracy = 0.989\n",
      "\n",
      "EPOCH 56 ...\n",
      "New Images Accuracy = 0.273\n",
      "\n",
      "EPOCH 57 ...\n",
      "Validation Accuracy = 0.988\n",
      "\n",
      "EPOCH 57 ...\n",
      "New Images Accuracy = 0.364\n",
      "\n",
      "EPOCH 58 ...\n",
      "Validation Accuracy = 0.986\n",
      "\n",
      "EPOCH 58 ...\n",
      "New Images Accuracy = 0.273\n",
      "\n",
      "EPOCH 59 ...\n",
      "Validation Accuracy = 0.989\n",
      "\n",
      "EPOCH 59 ...\n",
      "New Images Accuracy = 0.455\n",
      "\n",
      "EPOCH 60 ...\n",
      "Validation Accuracy = 0.989\n",
      "\n",
      "EPOCH 60 ...\n",
      "New Images Accuracy = 0.364\n",
      "\n",
      "EPOCH 61 ...\n",
      "Validation Accuracy = 0.990\n",
      "\n",
      "EPOCH 61 ...\n",
      "New Images Accuracy = 0.455\n",
      "\n",
      "EPOCH 62 ...\n",
      "Validation Accuracy = 0.989\n",
      "\n",
      "EPOCH 62 ...\n",
      "New Images Accuracy = 0.364\n",
      "\n",
      "EPOCH 63 ...\n",
      "Validation Accuracy = 0.991\n",
      "\n",
      "EPOCH 63 ...\n",
      "New Images Accuracy = 0.364\n",
      "\n",
      "EPOCH 64 ...\n",
      "Validation Accuracy = 0.988\n",
      "\n",
      "EPOCH 64 ...\n",
      "New Images Accuracy = 0.364\n",
      "\n",
      "EPOCH 65 ...\n",
      "Validation Accuracy = 0.990\n",
      "\n",
      "EPOCH 65 ...\n",
      "New Images Accuracy = 0.455\n",
      "\n",
      "[[  1.38527309e-14   2.00055297e-08   1.06995468e-09   3.17781379e-09\n",
      "    1.03336868e-06   3.58675756e-10   1.15491800e-11   2.41547005e-09\n",
      "    1.18691945e-08   1.91689287e-06   1.24496623e-07   9.39077438e-09\n",
      "    5.13927625e-05   9.99871850e-01   7.30594820e-08   1.00601083e-05\n",
      "    5.55160234e-14   1.98081285e-08   1.08244221e-05   7.35461503e-16\n",
      "    2.33754860e-09   3.49477842e-11   4.74027839e-09   3.48736262e-10\n",
      "    6.30614918e-12   1.28462048e-07   8.04500928e-08   1.45394307e-14\n",
      "    8.06489546e-14   5.24806327e-12   5.91285007e-11   1.75763436e-14\n",
      "    1.17710854e-07   7.08253154e-08   1.03418385e-08   1.20775474e-06\n",
      "    5.26602491e-07   5.49830710e-12   4.88100413e-05   7.40144098e-14\n",
      "    2.57143729e-08   8.63558669e-10   1.61715661e-06]\n",
      " [  1.03044046e-10   5.51006707e-09   3.06578027e-12   1.48411158e-10\n",
      "    5.07005160e-10   1.05183084e-10   1.36593812e-07   9.21572194e-12\n",
      "    3.96580740e-10   4.13393408e-08   4.35792629e-08   6.54328614e-05\n",
      "    2.99254953e-06   6.54623250e-07   3.22476039e-11   7.33851824e-09\n",
      "    1.83380251e-16   6.13152844e-12   1.12297228e-02   9.38518028e-08\n",
      "    9.47817316e-05   1.03956827e-05   9.76798058e-01   2.93662397e-05\n",
      "    2.87684202e-06   3.10773775e-03   3.23214312e-03   3.33790842e-04\n",
      "    2.53628066e-04   4.22507850e-03   3.36178055e-05   5.77440253e-04\n",
      "    2.37867614e-13   1.48297824e-12   4.50216689e-15   4.67907935e-10\n",
      "    3.31983746e-10   4.26870735e-12   1.92862714e-07   5.15215852e-08\n",
      "    1.58261560e-06   1.24478891e-11   5.02520456e-11]\n",
      " [  3.94715414e-07   2.37517469e-02   9.75284457e-01   2.90905177e-06\n",
      "    3.95362324e-04   2.21664482e-06   4.23981892e-16   2.71358715e-07\n",
      "    8.33871141e-08   3.02350020e-11   4.01730427e-09   6.89215869e-14\n",
      "    2.26645236e-09   9.96793034e-13   8.48684465e-08   1.51245669e-10\n",
      "    5.56310602e-18   1.93897713e-16   3.95521456e-18   2.62740106e-13\n",
      "    4.31576543e-15   7.12521521e-16   4.37692157e-18   2.14855400e-16\n",
      "    1.46126696e-25   4.69831257e-11   9.49397342e-17   2.48307179e-34\n",
      "    3.66540305e-20   7.61885952e-22   1.65708123e-20   1.33649812e-22\n",
      "    1.38631413e-27   1.60954652e-11   4.01331413e-09   1.70575998e-10\n",
      "    2.47117552e-11   2.34526664e-17   5.28590727e-09   1.74489589e-10\n",
      "    5.62472444e-04   8.86945123e-20   5.73826197e-15]\n",
      " [  1.13412783e-01   1.51767820e-01   4.59856121e-03   4.69433665e-01\n",
      "    7.32555985e-02   3.92778218e-02   2.63135228e-03   5.66834286e-02\n",
      "    3.93985696e-02   2.93936668e-04   1.16917756e-04   7.46686803e-03\n",
      "    1.58119583e-04   8.35555984e-05   1.91553298e-03   2.79894215e-03\n",
      "    2.70486868e-04   7.41682641e-07   3.84085346e-03   5.48775351e-05\n",
      "    1.63941193e-04   1.06900989e-05   2.26776920e-05   2.00549016e-06\n",
      "    5.08880150e-03   1.41273107e-04   1.63758209e-03   3.02309691e-05\n",
      "    9.96534247e-03   7.53435743e-05   1.41891796e-04   6.45249092e-05\n",
      "    1.09402637e-03   7.26287859e-03   2.08633855e-06   1.31717825e-03\n",
      "    3.76819867e-06   5.40380715e-05   1.85722602e-03   5.16356784e-04\n",
      "    3.05530219e-03   1.17957579e-05   2.06028944e-05]\n",
      " [  2.03082422e-16   2.73327474e-15   3.96696052e-18   1.19547858e-15\n",
      "    1.02380872e-13   1.20870002e-13   4.16263842e-26   1.63273658e-10\n",
      "    2.81852736e-11   7.98758811e-06   4.59275708e-11   1.65424489e-16\n",
      "    6.96812616e-12   2.17943663e-10   5.67409835e-08   4.83558159e-12\n",
      "    3.93446942e-10   9.99992013e-01   9.22994134e-17   2.87027288e-18\n",
      "    3.71570272e-16   1.82177793e-19   3.61918151e-13   1.98295875e-13\n",
      "    2.83028934e-21   5.24047770e-17   2.54476006e-14   5.38853998e-26\n",
      "    8.10239485e-21   3.67800532e-17   2.59120203e-14   5.85809765e-24\n",
      "    3.35942235e-22   1.11813241e-11   7.87032250e-14   7.46457692e-13\n",
      "    2.30133703e-18   4.62356111e-16   1.78481535e-11   2.59308404e-19\n",
      "    1.72956078e-13   2.36019624e-12   1.01809481e-14]\n",
      " [  2.61224792e-10   5.79083519e-08   2.32623035e-12   1.12616627e-09\n",
      "    1.33523097e-11   7.78485054e-10   1.25238699e-08   4.31291891e-10\n",
      "    1.02603996e-08   1.37442314e-07   3.69683626e-08   9.73266736e-02\n",
      "    9.34377822e-05   6.73230147e-08   4.02660749e-09   3.97917567e-11\n",
      "    1.44017480e-12   1.91750502e-07   7.05236162e-05   2.42532906e-07\n",
      "    3.34801525e-01   6.32281996e-08   2.48431868e-04   8.97810212e-04\n",
      "    1.34795337e-04   3.29450076e-03   9.09077498e-05   7.92527106e-04\n",
      "    5.58934748e-01   1.61014395e-04   3.09017091e-03   5.99196852e-08\n",
      "    1.33349845e-10   1.69332293e-06   2.45645789e-13   8.37844496e-08\n",
      "    1.91427816e-07   5.44302452e-07   4.84047069e-09   1.00908517e-06\n",
      "    5.82472421e-05   3.21684070e-07   1.98671941e-08]\n",
      " [  8.32146470e-05   8.00036490e-02   8.73756289e-01   5.37542487e-03\n",
      "    1.17778536e-02   1.73352449e-03   7.64486785e-09   1.61561766e-03\n",
      "    4.44931793e-04   3.82125381e-06   5.50553668e-05   1.22192512e-06\n",
      "    6.24759923e-05   1.99826695e-06   1.86462654e-04   6.86609246e-06\n",
      "    6.59951815e-10   6.39273079e-09   5.18926946e-09   4.12302157e-08\n",
      "    2.53158674e-07   1.52990580e-07   7.18650806e-10   1.43351215e-07\n",
      "    7.26184087e-13   1.98732323e-05   4.58283456e-09   3.02574198e-17\n",
      "    1.15929921e-09   1.37701101e-10   2.61438871e-10   5.30471014e-11\n",
      "    8.48713461e-13   2.48064657e-06   3.22186543e-06   3.70407429e-06\n",
      "    2.16399280e-06   3.16690763e-09   4.38144634e-05   1.47053925e-06\n",
      "    2.48140469e-02   6.14249374e-10   5.12297866e-08]\n",
      " [  1.07996625e-08   6.07026749e-08   1.06089630e-10   8.39071248e-08\n",
      "    2.68253775e-09   5.26909094e-09   1.53956842e-06   6.33161292e-08\n",
      "    7.38597139e-09   2.00042791e-06   1.54046427e-06   4.97911535e-02\n",
      "    2.69725260e-05   4.57291947e-08   3.79807297e-09   1.83254656e-07\n",
      "    9.50704404e-10   1.59740143e-09   2.26562358e-02   1.82480596e-06\n",
      "    3.17870267e-03   1.81769956e-05   7.63158619e-01   3.95516312e-04\n",
      "    6.77708769e-04   1.38099585e-03   2.13164929e-03   8.49243533e-03\n",
      "    1.05588019e-01   8.04998260e-03   4.15232079e-03   2.83509912e-03\n",
      "    7.88157450e-09   9.98790370e-07   3.15780353e-11   1.41215980e-06\n",
      "    2.53924881e-08   1.04151854e-06   8.38707274e-06   2.35007647e-05\n",
      "    2.74237953e-02   9.10342557e-09   6.48864962e-09]\n",
      " [  4.23739514e-14   1.39790146e-07   2.07118402e-11   5.59024027e-09\n",
      "    5.46109599e-13   1.06304290e-08   2.68260886e-10   2.03030539e-12\n",
      "    4.01997364e-14   3.31910393e-08   1.55187058e-06   1.17599245e-06\n",
      "    6.49150679e-05   9.16964560e-10   3.66037305e-11   4.63159761e-10\n",
      "    8.70248426e-14   1.33742151e-09   1.35760595e-11   1.52098657e-14\n",
      "    3.46571767e-07   1.85338355e-12   1.11750539e-11   7.04397651e-11\n",
      "    1.86629670e-15   1.89501941e-06   5.23741250e-12   2.48110157e-18\n",
      "    4.22986951e-10   2.33145882e-15   3.10882271e-08   1.38996476e-15\n",
      "    9.73710002e-11   1.06820567e-04   3.33852290e-06   1.25416908e-02\n",
      "    9.87194240e-01   6.59922443e-05   2.19446861e-07   3.46731753e-07\n",
      "    1.70874591e-05   8.19552870e-09   4.41555414e-08]\n",
      " [  1.46782419e-16   7.88338905e-09   2.90497670e-08   4.85083251e-10\n",
      "    1.06406314e-10   2.71127870e-10   1.61109446e-15   1.84024740e-11\n",
      "    1.90277594e-09   4.73565751e-06   2.66911059e-07   2.19793783e-08\n",
      "    9.99847770e-01   1.49204561e-05   2.17581646e-06   9.45658396e-09\n",
      "    3.39210490e-16   4.11521478e-06   2.08707201e-11   7.75225928e-17\n",
      "    7.68000663e-11   2.24293223e-10   9.18393139e-11   2.55343724e-09\n",
      "    3.63653267e-16   4.07928624e-08   5.58584266e-13   4.66093786e-20\n",
      "    1.36334628e-12   4.26197098e-12   1.07870247e-10   8.51369597e-19\n",
      "    3.06849796e-10   4.71491214e-11   7.96993262e-08   2.51355061e-07\n",
      "    3.29120041e-07   2.00003458e-09   6.34611797e-06   1.68549136e-07\n",
      "    1.14956383e-04   3.35204641e-06   2.80753085e-07]\n",
      " [  4.98817805e-08   2.34883511e-03   1.90238410e-03   1.12592147e-06\n",
      "    1.01343658e-05   6.48262949e-06   8.26297798e-13   1.05630555e-07\n",
      "    3.03207628e-07   3.47399890e-07   7.66350480e-04   2.50180733e-07\n",
      "    2.47700285e-04   1.31239394e-05   4.16135492e-07   2.74352828e-06\n",
      "    2.06037525e-13   4.31123019e-12   9.07840914e-10   1.24283872e-07\n",
      "    9.11779807e-07   6.38943106e-07   3.53726932e-08   2.89215291e-06\n",
      "    2.99112983e-16   8.56017723e-05   1.10742890e-08   2.28526346e-18\n",
      "    6.91293134e-11   2.85418800e-09   1.86526901e-08   4.25930544e-08\n",
      "    1.01681863e-17   3.79777416e-12   1.14245957e-03   2.18398945e-05\n",
      "    7.81334602e-05   4.61289257e-10   9.93056774e-01   1.14395036e-07\n",
      "    3.10066476e-04   3.37951746e-16   3.91605548e-09]]\n",
      "Training/Predicting took 900.6616566181183 seconds.\n"
     ]
    }
   ],
   "source": [
    "import time\n",
    "start_time = time.time()\n",
    "\n",
    "with tf.Session() as sess:\n",
    "    sess.run(tf.global_variables_initializer())\n",
    "#     sess.run(tf.initialize_all_variables())\n",
    "    \n",
    "    num_examples = len(X_train)\n",
    "    \n",
    "    print(\"Training...\")\n",
    "    print()\n",
    "    for i in range(EPOCHS):\n",
    "#         X_train, y_train = shuffle(X_train, y_train)\n",
    "        for offset in range(0, num_examples, BATCH_SIZE):\n",
    "            end = offset + BATCH_SIZE\n",
    "            batch_x, batch_y = X_train[offset:end], y_train[offset:end]\n",
    "            sess.run(training_operation, feed_dict={x: batch_x, y: batch_y, keep_prob_conv: dropout_conv, keep_prob_fc: dropout_fc})\n",
    "            \n",
    "        validation_accuracy = evaluate(X_validation, y_validation)\n",
    "        print(\"EPOCH {} ...\".format(i+1))\n",
    "        print(\"Validation Accuracy = {:.3f}\".format(validation_accuracy))\n",
    "        print()\n",
    "        \n",
    "        new_images_accuracy = evaluate(new_images_reshape, new_images_y)\n",
    "        print(\"EPOCH {} ...\".format(i+1))\n",
    "        print(\"New Images Accuracy = {:.3f}\".format(new_images_accuracy))\n",
    "        print()\n",
    "        \n",
    "    y = sess.run(pred_prob, feed_dict = {x: new_images_reshape, y: new_images_y, keep_prob_conv: 1.0, keep_prob_fc: 1.0})\n",
    "    \n",
    "    print(y)\n",
    "\n",
    "print(\"Training/Predicting took {} seconds.\".format(time.time() - start_time))"
   ]
  },
  {
   "cell_type": "markdown",
   "metadata": {},
   "source": [
    "### Question 6\n",
    "\n",
    "_Choose five candidate images of traffic signs and provide them in the report. Are there any particular qualities of the image(s) that might make classification difficult? It could be helpful to plot the images in the notebook._\n",
    "\n"
   ]
  },
  {
   "cell_type": "markdown",
   "metadata": {},
   "source": [
    "**Answer:**\n",
    "\n",
    "Out of the images with above 98% confidence, there is one image mislabelled. The \"No Entry\" sign is mislabelled as \"Priority Road\". A closer inspection seems to suggest that there is a big white spot of reflection in middle of the sign which maybe the cause of the mistake."
   ]
  },
  {
   "cell_type": "code",
   "execution_count": 216,
   "metadata": {
    "collapsed": false
   },
   "outputs": [
    {
     "name": "stdout",
     "output_type": "stream",
     "text": [
      "With confidence above 98%: [0, 4, 8, 9, 10]\n",
      "Mislabelled: [1, 2, 3, 6, 7, 9]\n",
      "Correctly labelled: [0, 8, 10, 4, 5]\n",
      "Confident and mislabelled: [9]\n",
      "\n",
      "Mislabelled image.\n"
     ]
    },
    {
     "data": {
      "image/png": "[encoded data removed]",
      "text/plain": [
       "<matplotlib.figure.Figure at 0x7fe2302016d8>"
      ]
     },
     "metadata": {},
     "output_type": "display_data"
    },
    {
     "name": "stdout",
     "output_type": "stream",
     "text": [
      "\n",
      "Confident images.\n"
     ]
    },
    {
     "data": {
      "image/png": "[encoded data removed]",
      "text/plain": [
       "<matplotlib.figure.Figure at 0x7fe230171e48>"
      ]
     },
     "metadata": {},
     "output_type": "display_data"
    },
    {
     "name": "stdout",
     "output_type": "stream",
     "text": [
      "0\n"
     ]
    },
    {
     "data": {
      "image/png": "[encoded data removed]",
      "text/plain": [
       "<matplotlib.figure.Figure at 0x7fe23012cba8>"
      ]
     },
     "metadata": {},
     "output_type": "display_data"
    },
    {
     "name": "stdout",
     "output_type": "stream",
     "text": [
      "4\n"
     ]
    },
    {
     "data": {
      "image/png": "[encoded data removed]",
      "text/plain": [
       "<matplotlib.figure.Figure at 0x7fe22fd426a0>"
      ]
     },
     "metadata": {},
     "output_type": "display_data"
    },
    {
     "name": "stdout",
     "output_type": "stream",
     "text": [
      "8\n"
     ]
    },
    {
     "data": {
      "image/png": "[encoded data removed]",
      "text/plain": [
       "<matplotlib.figure.Figure at 0x7fe22fc28908>"
      ]
     },
     "metadata": {},
     "output_type": "display_data"
    },
    {
     "name": "stdout",
     "output_type": "stream",
     "text": [
      "9\n"
     ]
    },
    {
     "data": {
      "image/png": "[encoded data removed]",
      "text/plain": [
       "<matplotlib.figure.Figure at 0x7fe22fb90400>"
      ]
     },
     "metadata": {},
     "output_type": "display_data"
    },
    {
     "name": "stdout",
     "output_type": "stream",
     "text": [
      "10\n"
     ]
    }
   ],
   "source": [
    "import operator\n",
    "y_pred = [max(enumerate(pred), key=operator.itemgetter(1))[0] for pred in y]\n",
    "y_pred_prob = [max(enumerate(pred), key=operator.itemgetter(1))[1] for pred in y]\n",
    "\n",
    "confident_indices = [i for i, x in enumerate(y_pred_prob) if x > 0.98]\n",
    "wrong_indices = [i for i, x in enumerate(y_pred) if x != new_images_y[i]]\n",
    "correct_indices = list(set(range(11)) - set(wrong_indices))\n",
    "\n",
    "wrong_and_confident = [x for x in wrong_indices if x in confident_indices]\n",
    "\n",
    "print(\"With confidence above 98%: {}\".format(confident_indices))\n",
    "print(\"Mislabelled: {}\".format(wrong_indices))\n",
    "print(\"Correctly labelled: {}\".format(correct_indices))\n",
    "print(\"Confident and mislabelled: {}\".format(wrong_and_confident))\n",
    "print()\n",
    "\n",
    "print(\"Mislabelled image.\")\n",
    "for i in wrong_and_confident:\n",
    "    plt.figure(figsize=(1,1))\n",
    "    plt.imshow(new_images[i])\n",
    "    plt.show()\n",
    "\n",
    "print()\n",
    "print(\"Confident images.\")\n",
    "for i in confident_indices:\n",
    "    plt.figure(figsize=(1,1))\n",
    "    plt.imshow(new_images[i])\n",
    "    plt.show()\n",
    "    print(i)"
   ]
  },
  {
   "cell_type": "markdown",
   "metadata": {},
   "source": [
    "### Question 7\n",
    "\n",
    "_Is your model able to perform equally well on captured pictures when compared to testing on the dataset? The simplest way to do this check the accuracy of the predictions. For example, if the model predicted 1 out of 5 signs correctly, it's 20% accurate._\n",
    "\n",
    "_**NOTE:** You could check the accuracy manually by using `signnames.csv` (same directory). This file has a mapping from the class id (0-42) to the corresponding sign name. So, you could take the class id the model outputs, lookup the name in `signnames.csv` and see if it matches the sign from the image._\n"
   ]
  },
  {
   "cell_type": "markdown",
   "metadata": {},
   "source": [
    "**Answer:**\n",
    "\n",
    "No. The accuracy is at 45.4% compared to the accuracy 91.9% of the test set. Also, by looking at the predicting progress we can see that the prediction is extremely unstable. A small change on the number of epochs can dramatically change the prediction which can result in higher or lower accuracy."
   ]
  },
  {
   "cell_type": "code",
   "execution_count": 200,
   "metadata": {
    "collapsed": false
   },
   "outputs": [
    {
     "name": "stdout",
     "output_type": "stream",
     "text": [
      "New Images accuracy: 0.45454545454545453\n"
     ]
    }
   ],
   "source": [
    "counter = 0\n",
    "\n",
    "for i, x in enumerate(y_pred):\n",
    "    if x == new_images_y[i]:\n",
    "        counter +=1\n",
    "\n",
    "print(\"New Images accuracy: {}\".format(counter/len(new_images_y)))"
   ]
  },
  {
   "cell_type": "markdown",
   "metadata": {},
   "source": [
    "### Question 8\n",
    "\n",
    "*Use the model's softmax probabilities to visualize the **certainty** of its predictions, [`tf.nn.top_k`](https://www.tensorflow.org/versions/r0.12/api_docs/python/nn.html#top_k) could prove helpful here. Which predictions is the model certain of? Uncertain? If the model was incorrect in its initial prediction, does the correct prediction appear in the top k? (k should be 5 at most)*\n",
    "\n",
    "`tf.nn.top_k` will return the values and indices (class ids) of the top k predictions. So if k=3, for each sign, it'll return the 3 largest probabilities (out of a possible 43) and the correspoding class ids.\n",
    "\n",
    "Take this numpy array as an example:\n",
    "\n",
    "```\n",
    "# (5, 6) array\n",
    "a = np.array([[ 0.24879643,  0.07032244,  0.12641572,  0.34763842,  0.07893497,\n",
    "         0.12789202],\n",
    "       [ 0.28086119,  0.27569815,  0.08594638,  0.0178669 ,  0.18063401,\n",
    "         0.15899337],\n",
    "       [ 0.26076848,  0.23664738,  0.08020603,  0.07001922,  0.1134371 ,\n",
    "         0.23892179],\n",
    "       [ 0.11943333,  0.29198961,  0.02605103,  0.26234032,  0.1351348 ,\n",
    "         0.16505091],\n",
    "       [ 0.09561176,  0.34396535,  0.0643941 ,  0.16240774,  0.24206137,\n",
    "         0.09155967]])\n",
    "```\n",
    "\n",
    "Running it through `sess.run(tf.nn.top_k(tf.constant(a), k=3))` produces:\n",
    "\n",
    "```\n",
    "TopKV2(values=array([[ 0.34763842,  0.24879643,  0.12789202],\n",
    "       [ 0.28086119,  0.27569815,  0.18063401],\n",
    "       [ 0.26076848,  0.23892179,  0.23664738],\n",
    "       [ 0.29198961,  0.26234032,  0.16505091],\n",
    "       [ 0.34396535,  0.24206137,  0.16240774]]), indices=array([[3, 0, 5],\n",
    "       [0, 1, 4],\n",
    "       [0, 5, 1],\n",
    "       [1, 3, 5],\n",
    "       [1, 4, 3]], dtype=int32))\n",
    "```\n",
    "\n",
    "Looking just at the first row we get `[ 0.34763842,  0.24879643,  0.12789202]`, you can confirm these are the 3 largest probabilities in `a`. You'll also notice `[3, 0, 5]` are the corresponding indices."
   ]
  },
  {
   "cell_type": "markdown",
   "metadata": {},
   "source": [
    "**Answer:**\n",
    "\n",
    "All of the correct predictions are among the predictions that the model is certain of. We can see that the wrong predictions are made on those with shadows cast upon, blocked by some objects, or with a strong distortion as the images are collected from Google Maps. This is normal since our news examples are drawn from a distribution different from the original training set. We might be able to improve the prediction by further augmenting the data, with random shadow cast or affine transformation."
   ]
  },
  {
   "cell_type": "code",
   "execution_count": 219,
   "metadata": {
    "collapsed": false
   },
   "outputs": [
    {
     "name": "stdout",
     "output_type": "stream",
     "text": [
      "Top 5 probabilities: [(4, 0.99999201), (0, 0.99987185), (9, 0.99984777), (10, 0.99305677), (8, 0.98719424)]\n",
      "Correct predictions: [0, 8, 10, 4, 5]\n"
     ]
    }
   ],
   "source": [
    "top_5 = sorted([(i, x) for i, x in enumerate(y_pred_prob)], key=lambda x: x[1], reverse=True)[:5]\n",
    "print(\"Top 5 probabilities: {}\".format(top_5))\n",
    "print(\"Correct predictions: {}\".format(correct_indices))"
   ]
  }
 ],
 "metadata": {
  "anaconda-cloud": {},
  "kernelspec": {
   "display_name": "Python [conda env:CarND-LeNet-Lab]",
   "language": "python",
   "name": "conda-env-CarND-LeNet-Lab-py"
  },
  "language_info": {
   "codemirror_mode": {
    "name": "ipython",
    "version": 3
   },
   "file_extension": ".py",
   "mimetype": "text/x-python",
   "name": "python",
   "nbconvert_exporter": "python",
   "pygments_lexer": "ipython3",
   "version": "3.5.2"
  }
 },
 "nbformat": 4,
 "nbformat_minor": 1
}
